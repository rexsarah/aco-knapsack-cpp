{
 "cells": [
  {
   "cell_type": "code",
   "execution_count": 4,
   "id": "c4397510",
   "metadata": {},
   "outputs": [],
   "source": [
    "import altair as alt\n",
    "import pandas as pd\n",
    "import numpy as np"
   ]
  },
  {
   "cell_type": "code",
   "execution_count": null,
   "id": "5f9866b7",
   "metadata": {},
   "outputs": [
    {
     "data": {
      "text/html": [
       "\n",
       "<style>\n",
       "  #altair-viz-f73bff33e0ef46f5a31620645a85e924.vega-embed {\n",
       "    width: 100%;\n",
       "    display: flex;\n",
       "  }\n",
       "\n",
       "  #altair-viz-f73bff33e0ef46f5a31620645a85e924.vega-embed details,\n",
       "  #altair-viz-f73bff33e0ef46f5a31620645a85e924.vega-embed details summary {\n",
       "    position: relative;\n",
       "  }\n",
       "</style>\n",
       "<div id=\"altair-viz-f73bff33e0ef46f5a31620645a85e924\"></div>\n",
       "<script type=\"text/javascript\">\n",
       "  var VEGA_DEBUG = (typeof VEGA_DEBUG == \"undefined\") ? {} : VEGA_DEBUG;\n",
       "  (function(spec, embedOpt){\n",
       "    let outputDiv = document.currentScript.previousElementSibling;\n",
       "    if (outputDiv.id !== \"altair-viz-f73bff33e0ef46f5a31620645a85e924\") {\n",
       "      outputDiv = document.getElementById(\"altair-viz-f73bff33e0ef46f5a31620645a85e924\");\n",
       "    }\n",
       "\n",
       "    const paths = {\n",
       "      \"vega\": \"https://cdn.jsdelivr.net/npm/vega@5?noext\",\n",
       "      \"vega-lib\": \"https://cdn.jsdelivr.net/npm/vega-lib?noext\",\n",
       "      \"vega-lite\": \"https://cdn.jsdelivr.net/npm/vega-lite@5.20.1?noext\",\n",
       "      \"vega-embed\": \"https://cdn.jsdelivr.net/npm/vega-embed@6?noext\",\n",
       "    };\n",
       "\n",
       "    function maybeLoadScript(lib, version) {\n",
       "      var key = `${lib.replace(\"-\", \"\")}_version`;\n",
       "      return (VEGA_DEBUG[key] == version) ?\n",
       "        Promise.resolve(paths[lib]) :\n",
       "        new Promise(function(resolve, reject) {\n",
       "          var s = document.createElement('script');\n",
       "          document.getElementsByTagName(\"head\")[0].appendChild(s);\n",
       "          s.async = true;\n",
       "          s.onload = () => {\n",
       "            VEGA_DEBUG[key] = version;\n",
       "            return resolve(paths[lib]);\n",
       "          };\n",
       "          s.onerror = () => reject(`Error loading script: ${paths[lib]}`);\n",
       "          s.src = paths[lib];\n",
       "        });\n",
       "    }\n",
       "\n",
       "    function showError(err) {\n",
       "      outputDiv.innerHTML = `<div class=\"error\" style=\"color:red;\">${err}</div>`;\n",
       "      throw err;\n",
       "    }\n",
       "\n",
       "    function displayChart(vegaEmbed) {\n",
       "      vegaEmbed(outputDiv, spec, embedOpt)\n",
       "        .catch(err => showError(`Javascript Error: ${err.message}<br>This usually means there's a typo in your chart specification. See the javascript console for the full traceback.`));\n",
       "    }\n",
       "\n",
       "    if(typeof define === \"function\" && define.amd) {\n",
       "      requirejs.config({paths});\n",
       "      let deps = [\"vega-embed\"];\n",
       "      require(deps, displayChart, err => showError(`Error loading script: ${err.message}`));\n",
       "    } else {\n",
       "      maybeLoadScript(\"vega\", \"5\")\n",
       "        .then(() => maybeLoadScript(\"vega-lite\", \"5.20.1\"))\n",
       "        .then(() => maybeLoadScript(\"vega-embed\", \"6\"))\n",
       "        .catch(showError)\n",
       "        .then(() => displayChart(vegaEmbed));\n",
       "    }\n",
       "  })({\"config\": {\"view\": {\"continuousWidth\": 300, \"continuousHeight\": 300}, \"axis\": {\"labelFontSize\": 12, \"titleFontSize\": 14}}, \"data\": {\"name\": \"data-643a52f00a3434a0f5968ec18a6ea0c9\"}, \"mark\": {\"type\": \"bar\", \"opacity\": 0.7}, \"encoding\": {\"color\": {\"field\": \"Categoria\", \"type\": \"nominal\"}, \"column\": {\"field\": \"Categoria\", \"type\": \"nominal\"}, \"x\": {\"bin\": {\"maxbins\": 30}, \"field\": \"Valor\", \"title\": \"Valor da Solu\\u00e7\\u00e3o\", \"type\": \"quantitative\"}, \"y\": {\"aggregate\": \"count\", \"title\": \"Frequ\\u00eancia\", \"type\": \"quantitative\"}}, \"height\": 300, \"title\": \"Histograma Comparativo das Solu\\u00e7\\u00f5es (Melhor vs Pior vs M\\u00e9dio)\", \"width\": 150, \"$schema\": \"https://vega.github.io/schema/vega-lite/v5.20.1.json\", \"datasets\": {\"data-643a52f00a3434a0f5968ec18a6ea0c9\": [{\"Categoria\": \"Melhor\", \"Valor\": 2193}, {\"Categoria\": \"Melhor\", \"Valor\": 2183}, {\"Categoria\": \"Melhor\", \"Valor\": 2193}, {\"Categoria\": \"Melhor\", \"Valor\": 2189}, {\"Categoria\": \"Melhor\", \"Valor\": 2190}, {\"Categoria\": \"Melhor\", \"Valor\": 2189}, {\"Categoria\": \"Melhor\", \"Valor\": 2192}, {\"Categoria\": \"Melhor\", \"Valor\": 2189}, {\"Categoria\": \"Melhor\", \"Valor\": 2191}, {\"Categoria\": \"Melhor\", \"Valor\": 2185}, {\"Categoria\": \"Melhor\", \"Valor\": 2186}, {\"Categoria\": \"Melhor\", \"Valor\": 2191}, {\"Categoria\": \"Melhor\", \"Valor\": 2189}, {\"Categoria\": \"Melhor\", \"Valor\": 2180}, {\"Categoria\": \"Melhor\", \"Valor\": 2183}, {\"Categoria\": \"Pior\", \"Valor\": 1917}, {\"Categoria\": \"Pior\", \"Valor\": 1921}, {\"Categoria\": \"Pior\", \"Valor\": 1919}, {\"Categoria\": \"Pior\", \"Valor\": 1943}, {\"Categoria\": \"Pior\", \"Valor\": 1887}, {\"Categoria\": \"Pior\", \"Valor\": 1906}, {\"Categoria\": \"Pior\", \"Valor\": 1922}, {\"Categoria\": \"Pior\", \"Valor\": 1917}, {\"Categoria\": \"Pior\", \"Valor\": 1903}, {\"Categoria\": \"Pior\", \"Valor\": 1918}, {\"Categoria\": \"Pior\", \"Valor\": 1892}, {\"Categoria\": \"Pior\", \"Valor\": 1921}, {\"Categoria\": \"Pior\", \"Valor\": 1931}, {\"Categoria\": \"Pior\", \"Valor\": 1915}, {\"Categoria\": \"Pior\", \"Valor\": 1925}, {\"Categoria\": \"M\\u00e9dio\", \"Valor\": 2188}, {\"Categoria\": \"M\\u00e9dio\", \"Valor\": 2188}, {\"Categoria\": \"M\\u00e9dio\", \"Valor\": 2188}, {\"Categoria\": \"M\\u00e9dio\", \"Valor\": 2188}, {\"Categoria\": \"M\\u00e9dio\", \"Valor\": 2188}, {\"Categoria\": \"M\\u00e9dio\", \"Valor\": 2188}, {\"Categoria\": \"M\\u00e9dio\", \"Valor\": 2188}, {\"Categoria\": \"M\\u00e9dio\", \"Valor\": 2188}, {\"Categoria\": \"M\\u00e9dio\", \"Valor\": 2188}, {\"Categoria\": \"M\\u00e9dio\", \"Valor\": 2188}, {\"Categoria\": \"M\\u00e9dio\", \"Valor\": 2188}, {\"Categoria\": \"M\\u00e9dio\", \"Valor\": 2188}, {\"Categoria\": \"M\\u00e9dio\", \"Valor\": 2188}, {\"Categoria\": \"M\\u00e9dio\", \"Valor\": 2188}, {\"Categoria\": \"M\\u00e9dio\", \"Valor\": 2188}]}}, {\"mode\": \"vega-lite\"});\n",
       "</script>"
      ],
      "text/plain": [
       "alt.Chart(...)"
      ]
     },
     "metadata": {},
     "output_type": "display_data"
    }
   ],
   "source": []
  }
 ],
 "metadata": {
  "kernelspec": {
   "display_name": ".minhaVenv",
   "language": "python",
   "name": "python3"
  },
  "language_info": {
   "codemirror_mode": {
    "name": "ipython",
    "version": 3
   },
   "file_extension": ".py",
   "mimetype": "text/x-python",
   "name": "python",
   "nbconvert_exporter": "python",
   "pygments_lexer": "ipython3",
   "version": "3.12.3"
  }
 },
 "nbformat": 4,
 "nbformat_minor": 5
}
