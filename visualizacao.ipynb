{
 "cells": [
  {
   "cell_type": "code",
   "execution_count": 4,
   "id": "c4397510",
   "metadata": {},
   "outputs": [],
   "source": [
    "import altair as alt\n",
    "import pandas as pd\n",
    "import numpy as np"
   ]
  },
  {
   "cell_type": "code",
   "execution_count": 11,
   "id": "5f9866b7",
   "metadata": {},
   "outputs": [
    {
     "data": {
      "text/html": [
       "\n",
       "<style>\n",
       "  #altair-viz-cc6f312eb8eb4a929d5646996e6f496b.vega-embed {\n",
       "    width: 100%;\n",
       "    display: flex;\n",
       "  }\n",
       "\n",
       "  #altair-viz-cc6f312eb8eb4a929d5646996e6f496b.vega-embed details,\n",
       "  #altair-viz-cc6f312eb8eb4a929d5646996e6f496b.vega-embed details summary {\n",
       "    position: relative;\n",
       "  }\n",
       "</style>\n",
       "<div id=\"altair-viz-cc6f312eb8eb4a929d5646996e6f496b\"></div>\n",
       "<script type=\"text/javascript\">\n",
       "  var VEGA_DEBUG = (typeof VEGA_DEBUG == \"undefined\") ? {} : VEGA_DEBUG;\n",
       "  (function(spec, embedOpt){\n",
       "    let outputDiv = document.currentScript.previousElementSibling;\n",
       "    if (outputDiv.id !== \"altair-viz-cc6f312eb8eb4a929d5646996e6f496b\") {\n",
       "      outputDiv = document.getElementById(\"altair-viz-cc6f312eb8eb4a929d5646996e6f496b\");\n",
       "    }\n",
       "\n",
       "    const paths = {\n",
       "      \"vega\": \"https://cdn.jsdelivr.net/npm/vega@5?noext\",\n",
       "      \"vega-lib\": \"https://cdn.jsdelivr.net/npm/vega-lib?noext\",\n",
       "      \"vega-lite\": \"https://cdn.jsdelivr.net/npm/vega-lite@5.20.1?noext\",\n",
       "      \"vega-embed\": \"https://cdn.jsdelivr.net/npm/vega-embed@6?noext\",\n",
       "    };\n",
       "\n",
       "    function maybeLoadScript(lib, version) {\n",
       "      var key = `${lib.replace(\"-\", \"\")}_version`;\n",
       "      return (VEGA_DEBUG[key] == version) ?\n",
       "        Promise.resolve(paths[lib]) :\n",
       "        new Promise(function(resolve, reject) {\n",
       "          var s = document.createElement('script');\n",
       "          document.getElementsByTagName(\"head\")[0].appendChild(s);\n",
       "          s.async = true;\n",
       "          s.onload = () => {\n",
       "            VEGA_DEBUG[key] = version;\n",
       "            return resolve(paths[lib]);\n",
       "          };\n",
       "          s.onerror = () => reject(`Error loading script: ${paths[lib]}`);\n",
       "          s.src = paths[lib];\n",
       "        });\n",
       "    }\n",
       "\n",
       "    function showError(err) {\n",
       "      outputDiv.innerHTML = `<div class=\"error\" style=\"color:red;\">${err}</div>`;\n",
       "      throw err;\n",
       "    }\n",
       "\n",
       "    function displayChart(vegaEmbed) {\n",
       "      vegaEmbed(outputDiv, spec, embedOpt)\n",
       "        .catch(err => showError(`Javascript Error: ${err.message}<br>This usually means there's a typo in your chart specification. See the javascript console for the full traceback.`));\n",
       "    }\n",
       "\n",
       "    if(typeof define === \"function\" && define.amd) {\n",
       "      requirejs.config({paths});\n",
       "      let deps = [\"vega-embed\"];\n",
       "      require(deps, displayChart, err => showError(`Error loading script: ${err.message}`));\n",
       "    } else {\n",
       "      maybeLoadScript(\"vega\", \"5\")\n",
       "        .then(() => maybeLoadScript(\"vega-lite\", \"5.20.1\"))\n",
       "        .then(() => maybeLoadScript(\"vega-embed\", \"6\"))\n",
       "        .catch(showError)\n",
       "        .then(() => displayChart(vegaEmbed));\n",
       "    }\n",
       "  })({\"config\": {\"view\": {\"continuousWidth\": 300, \"continuousHeight\": 300}}, \"data\": {\"name\": \"data-77bbd3282d71ecbe215ce8cd64f1984d\"}, \"mark\": {\"type\": \"bar\", \"opacity\": 0.7}, \"encoding\": {\"color\": {\"field\": \"TipoValor\", \"type\": \"nominal\"}, \"x\": {\"axis\": {\"labelAngle\": -45}, \"field\": \"Execucao\", \"title\": \"Execu\\u00e7\\u00e3o\", \"type\": \"nominal\"}, \"y\": {\"field\": \"Valor\", \"title\": \"Valor da Solu\\u00e7\\u00e3o\", \"type\": \"quantitative\"}}, \"height\": 400, \"title\": \"Compara\\u00e7\\u00e3o Melhor e Pior Valor por Execu\\u00e7\\u00e3o\", \"width\": 700, \"$schema\": \"https://vega.github.io/schema/vega-lite/v5.20.1.json\", \"datasets\": {\"data-77bbd3282d71ecbe215ce8cd64f1984d\": [{\"Execucao\": 1, \"TipoValor\": \"MelhorValor\", \"Valor\": 2193}, {\"Execucao\": 2, \"TipoValor\": \"MelhorValor\", \"Valor\": 2183}, {\"Execucao\": 3, \"TipoValor\": \"MelhorValor\", \"Valor\": 2193}, {\"Execucao\": 4, \"TipoValor\": \"MelhorValor\", \"Valor\": 2189}, {\"Execucao\": 5, \"TipoValor\": \"MelhorValor\", \"Valor\": 2190}, {\"Execucao\": 6, \"TipoValor\": \"MelhorValor\", \"Valor\": 2189}, {\"Execucao\": 7, \"TipoValor\": \"MelhorValor\", \"Valor\": 2192}, {\"Execucao\": 8, \"TipoValor\": \"MelhorValor\", \"Valor\": 2189}, {\"Execucao\": 9, \"TipoValor\": \"MelhorValor\", \"Valor\": 2191}, {\"Execucao\": 10, \"TipoValor\": \"MelhorValor\", \"Valor\": 2185}, {\"Execucao\": 11, \"TipoValor\": \"MelhorValor\", \"Valor\": 2186}, {\"Execucao\": 12, \"TipoValor\": \"MelhorValor\", \"Valor\": 2191}, {\"Execucao\": 13, \"TipoValor\": \"MelhorValor\", \"Valor\": 2189}, {\"Execucao\": 14, \"TipoValor\": \"MelhorValor\", \"Valor\": 2180}, {\"Execucao\": 15, \"TipoValor\": \"MelhorValor\", \"Valor\": 2183}, {\"Execucao\": 1, \"TipoValor\": \"PiorValor\", \"Valor\": 1917}, {\"Execucao\": 2, \"TipoValor\": \"PiorValor\", \"Valor\": 1921}, {\"Execucao\": 3, \"TipoValor\": \"PiorValor\", \"Valor\": 1919}, {\"Execucao\": 4, \"TipoValor\": \"PiorValor\", \"Valor\": 1943}, {\"Execucao\": 5, \"TipoValor\": \"PiorValor\", \"Valor\": 1887}, {\"Execucao\": 6, \"TipoValor\": \"PiorValor\", \"Valor\": 1906}, {\"Execucao\": 7, \"TipoValor\": \"PiorValor\", \"Valor\": 1922}, {\"Execucao\": 8, \"TipoValor\": \"PiorValor\", \"Valor\": 1917}, {\"Execucao\": 9, \"TipoValor\": \"PiorValor\", \"Valor\": 1903}, {\"Execucao\": 10, \"TipoValor\": \"PiorValor\", \"Valor\": 1918}, {\"Execucao\": 11, \"TipoValor\": \"PiorValor\", \"Valor\": 1892}, {\"Execucao\": 12, \"TipoValor\": \"PiorValor\", \"Valor\": 1921}, {\"Execucao\": 13, \"TipoValor\": \"PiorValor\", \"Valor\": 1931}, {\"Execucao\": 14, \"TipoValor\": \"PiorValor\", \"Valor\": 1915}, {\"Execucao\": 15, \"TipoValor\": \"PiorValor\", \"Valor\": 1925}]}}, {\"mode\": \"vega-lite\"});\n",
       "</script>"
      ],
      "text/plain": [
       "alt.Chart(...)"
      ]
     },
     "metadata": {},
     "output_type": "display_data"
    }
   ],
   "source": [
    "df = pd.read_csv(\"resultados_aco.csv\")\n",
    "\n",
    "# Selecionar só colunas existentes para o gráfico\n",
    "df_long = df.melt(id_vars=['Execucao'], value_vars=['MelhorValor', 'PiorValor'],\n",
    "                  var_name='TipoValor', value_name='Valor')\n",
    "\n",
    "chart = alt.Chart(df_long).mark_bar(opacity=0.7).encode(\n",
    "    x=alt.X('Execucao:N', title='Execução', axis=alt.Axis(labelAngle=-45)),\n",
    "    y=alt.Y('Valor:Q', title='Valor da Solução'),\n",
    "    color='TipoValor:N'\n",
    ").properties(\n",
    "    width=700,\n",
    "    height=400,\n",
    "    title='Comparação Melhor e Pior Valor por Execução'\n",
    ")\n",
    "\n",
    "chart.show()"
   ]
  }
 ],
 "metadata": {
  "kernelspec": {
   "display_name": ".minhaVenv",
   "language": "python",
   "name": "python3"
  },
  "language_info": {
   "codemirror_mode": {
    "name": "ipython",
    "version": 3
   },
   "file_extension": ".py",
   "mimetype": "text/x-python",
   "name": "python",
   "nbconvert_exporter": "python",
   "pygments_lexer": "ipython3",
   "version": "3.12.3"
  }
 },
 "nbformat": 4,
 "nbformat_minor": 5
}
